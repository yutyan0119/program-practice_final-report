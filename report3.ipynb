{
 "cells": [
  {
   "cell_type": "code",
   "execution_count": 1,
   "metadata": {},
   "outputs": [],
   "source": [
    "import pandas as pd\n",
    "import numpy as np\n",
    "import scipy as sp\n",
    "from scipy.io import wavfile\n",
    "from matplotlib import pyplot as plt\n",
    "from PIL import Image"
   ]
  },
  {
   "cell_type": "code",
   "execution_count": 74,
   "metadata": {},
   "outputs": [
    {
     "name": "stdout",
     "output_type": "stream",
     "text": [
      "[0.76557979 0.64334096]\n",
      "(262144,)\n",
      "[[189 189 189 ... 140 116 104]\n",
      " [189 189 189 ... 135 125  95]\n",
      " [189 189 189 ... 136 121 106]\n",
      " ...\n",
      " [ 46  46  47 ... 146 146 144]\n",
      " [ 46  46  50 ... 143 143 143]\n",
      " [  0  46  50 ... 143 143 143]]\n",
      "[[179 179 179 ... 133 113 104]\n",
      " [179 179 179 ... 129 121  97]\n",
      " [179 179 179 ... 130 117 106]\n",
      " ...\n",
      " [ 60  60  60 ... 145 146 144]\n",
      " [ 60  60  62 ... 142 142 142]\n",
      " [ 17  60  62 ... 142 142 142]]\n"
     ]
    }
   ],
   "source": [
    "image1 = np.array(Image.open('./data/image1.png'))\n",
    "image2 = np.array(Image.open('./data/image2.png'))\n",
    "newimage = np.empty(image1.shape)\n",
    "image11 = image1.flatten()\n",
    "image22 = image2.flatten()\n",
    "z = np.array([image11,image22])\n",
    "eig = np.linalg.eig(np.cov(z))\n",
    "D = eig[0]\n",
    "E = eig[1]\n",
    "D = np.sqrt(D)\n",
    "D = 1/D\n",
    "V = np.dot(np.dot(E,np.diag(D)),np.transpose(E))\n",
    "newvar = np.dot(V,z)\n",
    "\n",
    "wT = np.array([1,1]) #wの転置を定める\n",
    "wT = wT/np.linalg.norm(wT)\n",
    "w = wT.T\n",
    "b = wT\n",
    "preW = w\n",
    "while(1):\n",
    "  wT = w.T\n",
    "  tmpw = np.dot(newvar,np.power(np.dot(wT,newvar),3))/(512*512)-3*w\n",
    "  w = tmpw/np.linalg.norm(tmpw)\n",
    "  if(np.isclose(w,preW).all() or np.isclose(w*(-1),preW).all()):\n",
    "    break\n",
    "  else:\n",
    "    preW = w\n",
    "print(w)\n",
    "newimage = np.dot(w,newvar)\n",
    "#-------------------------------#\n",
    "wT = np.random.rand(2)\n",
    "w = wT.T\n",
    "b = wT\n",
    "preW = w\n",
    "while(1):\n",
    "  wT = w.T\n",
    "  tmpw = np.dot(newvar,np.power(np.dot(wT,newvar),3))/(512*512)-3*w\n",
    "  w = tmpw/np.linalg.norm(tmpw)\n",
    "  if(np.isclose(w,preW).all() or np.isclose(w*(-1),preW).all()):\n",
    "    break\n",
    "  else:\n",
    "    preW = w\n",
    "\n",
    "def min_max(x, axis=None):\n",
    "    min = x.min(axis=axis, keepdims=True)\n",
    "    max = x.max(axis=axis, keepdims=True)\n",
    "    result = (x-min)*255/(max-min)\n",
    "    return result\n",
    "\n",
    "c = min_max(newimage)\n",
    "print(c.shape)\n",
    "c = c.reshape(512,512)\n",
    "c = c.astype(np.uint8)\n",
    "print(c)\n",
    "print(image1)\n",
    "Image.fromarray(c).save(\"./test2.png\")"
   ]
  }
 ],
 "metadata": {
  "interpreter": {
   "hash": "916dbcbb3f70747c44a77c7bcd40155683ae19c65e1c03b4aa3499c5328201f1"
  },
  "kernelspec": {
   "display_name": "Python 3.8.10 64-bit",
   "language": "python",
   "name": "python3"
  },
  "language_info": {
   "codemirror_mode": {
    "name": "ipython",
    "version": 3
   },
   "file_extension": ".py",
   "mimetype": "text/x-python",
   "name": "python",
   "nbconvert_exporter": "python",
   "pygments_lexer": "ipython3",
   "version": "3.8.10"
  },
  "orig_nbformat": 4
 },
 "nbformat": 4,
 "nbformat_minor": 2
}
